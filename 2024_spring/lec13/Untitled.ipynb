{
 "cells": [
  {
   "cell_type": "code",
   "execution_count": 2,
   "id": "d2b5061d",
   "metadata": {},
   "outputs": [
    {
     "name": "stderr",
     "output_type": "stream",
     "text": [
      "E\n",
      "======================================================================\n",
      "ERROR: C:\\Users\\Hitomi\\AppData\\Roaming\\jupyter\\runtime\\kernel-7a2e0800-48e7-4459-9063-7c793d40f05e (unittest.loader._FailedTest)\n",
      "----------------------------------------------------------------------\n",
      "AttributeError: module '__main__' has no attribute 'C:\\Users\\Hitomi\\AppData\\Roaming\\jupyter\\runtime\\kernel-7a2e0800-48e7-4459-9063-7c793d40f05e'\n",
      "\n",
      "----------------------------------------------------------------------\n",
      "Ran 1 test in 0.007s\n",
      "\n",
      "FAILED (errors=1)\n"
     ]
    },
    {
     "ename": "SystemExit",
     "evalue": "True",
     "output_type": "error",
     "traceback": [
      "An exception has occurred, use %tb to see the full traceback.\n",
      "\u001b[1;31mSystemExit\u001b[0m\u001b[1;31m:\u001b[0m True\n"
     ]
    },
    {
     "name": "stderr",
     "output_type": "stream",
     "text": [
      "C:\\ANACONDA3\\lib\\site-packages\\IPython\\core\\interactiveshell.py:3465: UserWarning: To exit: use 'exit', 'quit', or Ctrl-D.\n",
      "  warn(\"To exit: use 'exit', 'quit', or Ctrl-D.\", stacklevel=1)\n"
     ]
    }
   ],
   "source": [
    "import unittest\n",
    "import json\n",
    "import os\n",
    "from pydub import AudioSegment\n",
    "\n",
    "class TestAudioSynthesis(unittest.TestCase):\n",
    "    def setUp(self):\n",
    "        if os.path.exists('test.mp3'):\n",
    "            os.remove('test.mp3')\n",
    "\n",
    "    def import_homework13(self):\n",
    "        import homework13\n",
    "        self.homework13 = homework13\n",
    "\n",
    "    def extract_stories_from_NPR_text(self, webpage_text):\n",
    "        stories = self.homework13.extract_stories_from_NPR_text(webpage_text)\n",
    "        return stories\n",
    "\n",
    "    def read_nth_story(self, stories, n, filename):\n",
    "        self.homework13.read_nth_story(stories, n, filename)\n",
    "\n",
    "    def test_read_nth_story_creates_correct_synthesis(self):\n",
    "        self.import_homework13()\n",
    "        with open('stories.json', encoding='utf-8') as f:\n",
    "            stories = json.load(f)\n",
    "        self.read_nth_story(stories, 3, 'test.mp3')\n",
    "\n",
    "        solution_audio = AudioSegment.from_mp3(\"solution.mp3\")\n",
    "        test_audio = AudioSegment.from_mp3(\"test.mp3\")\n",
    "\n",
    "        # 检查音频的持续时间是否一致\n",
    "        self.assertEqual(len(solution_audio), len(test_audio), \"音频文件的持续时间不一致\")\n",
    "\n",
    "        # 检查音频内容是否一致\n",
    "        solution_samples = solution_audio.get_array_of_samples()\n",
    "        test_samples = test_audio.get_array_of_samples()\n",
    "        self.assertEqual(solution_samples, test_samples, \"音频文件的内容不一致\")\n",
    "\n",
    "if __name__ == '__main__':\n",
    "    unittest.main()"
   ]
  },
  {
   "cell_type": "code",
   "execution_count": 3,
   "id": "0e08ebdd",
   "metadata": {},
   "outputs": [
    {
     "ename": "NameError",
     "evalue": "name 'ffmpeg' is not defined",
     "output_type": "error",
     "traceback": [
      "\u001b[1;31m---------------------------------------------------------------------------\u001b[0m",
      "\u001b[1;31mNameError\u001b[0m                                 Traceback (most recent call last)",
      "\u001b[1;32m~\\AppData\\Local\\Temp\\ipykernel_636\\2651625944.py\u001b[0m in \u001b[0;36m<module>\u001b[1;34m\u001b[0m\n\u001b[1;32m----> 1\u001b[1;33m \u001b[0mffmpeg\u001b[0m \u001b[1;33m-\u001b[0m\u001b[0mversion\u001b[0m\u001b[1;33m\u001b[0m\u001b[1;33m\u001b[0m\u001b[0m\n\u001b[0m",
      "\u001b[1;31mNameError\u001b[0m: name 'ffmpeg' is not defined"
     ]
    }
   ],
   "source": [
    "ffmpeg -version"
   ]
  },
  {
   "cell_type": "code",
   "execution_count": null,
   "id": "b7e47da8",
   "metadata": {},
   "outputs": [],
   "source": []
  }
 ],
 "metadata": {
  "kernelspec": {
   "display_name": "Python 3 (ipykernel)",
   "language": "python",
   "name": "python3"
  },
  "language_info": {
   "codemirror_mode": {
    "name": "ipython",
    "version": 3
   },
   "file_extension": ".py",
   "mimetype": "text/x-python",
   "name": "python",
   "nbconvert_exporter": "python",
   "pygments_lexer": "ipython3",
   "version": "3.9.13"
  }
 },
 "nbformat": 4,
 "nbformat_minor": 5
}
